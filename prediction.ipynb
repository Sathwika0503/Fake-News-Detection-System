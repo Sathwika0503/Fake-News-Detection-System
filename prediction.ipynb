{
 "cells": [
  {
   "cell_type": "code",
   "execution_count": 1,
   "id": "7002d80f-d590-40e4-a066-1672731a4153",
   "metadata": {},
   "outputs": [
    {
     "name": "stdout",
     "output_type": "stream",
     "text": [
      "WARNING:tensorflow:From C:\\Users\\HP\\AppData\\Local\\Programs\\Python\\Python311\\Lib\\site-packages\\keras\\src\\losses.py:2976: The name tf.losses.sparse_softmax_cross_entropy is deprecated. Please use tf.compat.v1.losses.sparse_softmax_cross_entropy instead.\n",
      "\n",
      "WARNING:tensorflow:From C:\\Users\\HP\\AppData\\Local\\Programs\\Python\\Python311\\Lib\\site-packages\\keras\\src\\backend.py:1398: The name tf.executing_eagerly_outside_functions is deprecated. Please use tf.compat.v1.executing_eagerly_outside_functions instead.\n",
      "\n"
     ]
    }
   ],
   "source": [
    "from tensorflow.keras.models import load_model\n",
    "new_model=load_model('trained_model.h5')"
   ]
  },
  {
   "cell_type": "code",
   "execution_count": 2,
   "id": "19c26a45-105a-4a8e-b470-9645bf5bda10",
   "metadata": {
    "scrolled": true
   },
   "outputs": [
    {
     "name": "stdout",
     "output_type": "stream",
     "text": [
      "Model: \"sequential\"\n",
      "_________________________________________________________________\n",
      " Layer (type)                Output Shape              Param #   \n",
      "=================================================================\n",
      " embedding (Embedding)       (None, None, 100)         23949100  \n",
      "                                                                 \n",
      " dropout (Dropout)           (None, None, 100)         0         \n",
      "                                                                 \n",
      " lstm (LSTM)                 (None, 128)               117248    \n",
      "                                                                 \n",
      " dropout_1 (Dropout)         (None, 128)               0         \n",
      "                                                                 \n",
      " dense (Dense)               (None, 256)               33024     \n",
      "                                                                 \n",
      " dense_1 (Dense)             (None, 1)                 257       \n",
      "                                                                 \n",
      "=================================================================\n",
      "Total params: 24099629 (91.93 MB)\n",
      "Trainable params: 150529 (588.00 KB)\n",
      "Non-trainable params: 23949100 (91.36 MB)\n",
      "_________________________________________________________________\n"
     ]
    }
   ],
   "source": [
    "new_model.summary()"
   ]
  },
  {
   "cell_type": "code",
   "execution_count": 3,
   "id": "ac37a8ff-22f3-40de-ac6f-64b7430f6d2b",
   "metadata": {},
   "outputs": [],
   "source": [
    "from keras.models import load_model\n",
    "from keras.preprocessing.sequence import pad_sequences\n",
    "import numpy as np\n",
    "from keras.preprocessing.text import Tokenizer\n",
    "import re\n",
    "from sklearn.feature_extraction.text import ENGLISH_STOP_WORDS"
   ]
  },
  {
   "cell_type": "code",
   "execution_count": 4,
   "id": "3ae2f3f0-fad0-42b9-9a72-0eec048562d9",
   "metadata": {},
   "outputs": [],
   "source": [
    "def predict_news(text, model, tokenizer=None, max_len=500):\n",
    "    # If tokenizer is not provided, create a new one\n",
    "    if tokenizer is None:\n",
    "        tokenizer = Tokenizer()\n",
    "        # Fit the tokenizer on the provided text\n",
    "        tokenizer.fit_on_texts([text])\n",
    "\n",
    "    # Preprocess the input text\n",
    "    clean_text = preprocess_text(text)\n",
    "    \n",
    "    # Tokenize and pad the sequence\n",
    "    sequence = tokenizer.texts_to_sequences([clean_text])\n",
    "    padded_sequence = pad_sequences(sequence, maxlen=max_len, padding='post', truncating='post')\n",
    "    \n",
    "    # Make a prediction\n",
    "    prediction = model.predict(np.array(padded_sequence))\n",
    "    \n",
    "    # Interpret the prediction\n",
    "    result = \"Fake News\" if prediction > 0.5 else \"Real News\"\n",
    "    \n",
    "    return result\n",
    "\n",
    "def preprocess_text(text):\n",
    "    # Convert to lowercase\n",
    "    clean_text = text.lower()\n",
    "\n",
    "    # Remove special characters and punctuation\n",
    "    clean_text = re.sub(r'[^A-Za-z0-9\\s]', '', clean_text)\n",
    "\n",
    "    # Remove extra whitespaces\n",
    "    clean_text = re.sub('\\s+', ' ', clean_text)\n",
    "\n",
    "    # Remove stopwords\n",
    "    stop = ENGLISH_STOP_WORDS\n",
    "    clean_text = \" \".join([word for word in clean_text.split() if word not in stop])\n",
    "\n",
    "    return clean_text"
   ]
  },
  {
   "cell_type": "code",
   "execution_count": 5,
   "id": "a234cd20-a554-4ad3-b95a-b5f6657b1bb7",
   "metadata": {},
   "outputs": [
    {
     "name": "stdout",
     "output_type": "stream",
     "text": [
      "1/1 [==============================] - 3s 3s/step\n",
      "Prediction: Fake News\n"
     ]
    }
   ],
   "source": [
    "input_text=\"The National Academies of Sciences, Engineering and Medicine are assigned by Congress to provide policy guidance to the government. The group describes itself as â€œadvisers to the nation. â€ The advice often comes through written reports from scientific committees organized by the group. One of those committees, though, is facing questions about how its members were selected. The concerns focus on a panel studying biotechnology, a booming area of business, including in the food industry, and one of the most contentious scientific issues in Washington. Critics say that several committee members have financial ties to biotech businesses that could color the panelâ€™s report, expected to be published soon, potentially giving short shrift to health and environmental worries. By the academiesâ€™ own account, two of the scientists already violate the groupâ€™s extensive    policy. In addition, an employee at the academies who helped pick the scientists to serve on the panel was pursuing a different job while he put together his recommendations for the group. Three of the 13 people he recommended  â€”   all of whom were eventually selected for the panel  â€”   were board members at his new employer, a new biotechnology nonprofit. The criticism adds to the heated debate about how federal regulators are handling the fast development of biotechnology. The National Academies play an outsize role in the debate because of their stature in the academic community and connections to the federal government. A separate study the organization did on genetic engineering in agriculture, published in May, also came under intense criticism from environmentalists. The National Academies have defended the panel that produced the May report, as well as the current panel on biotechnology, saying that the type of expertise needed to staff them is limited and thus some conflict must be tolerated. But people with ties to the academies say any perceived conflicts of interest may undermine some of the groupâ€™s authority. â€œThereâ€™s often a lot riding on what the academies say, and so their ability to act with objectivity and independence defines any value they have,â€ said Dr. Harvey Fineberg, a former leader of what is now the medical division of the National Academies. The most recent committee convened to study biotechnology was formed this year at the behest of the White House. The group was asked to predict what new technologies might arise over the next 15 years and advise the government on how to oversee them. The regulation for the industry was last updated in 1992, years before the first approval of genetically engineered seeds, which are now widely used by farmers. Like the 200 or so other reports published by the National Academies each year, the biotechnology report is undergoing peer review, the   process regularly used by academic journals. The report could have broad implications for the industry. Big food companies like   and Archer Daniels Midland, for instance, have invested in synthetic biology, a term used for the more sophisticated genetic engineering now coming into use that was the panelâ€™s area of study. Food companies are exploring its use in creating flavorings and sweeteners. When the National Academies announced the committee this year, they disclosed that two of the groupâ€™s 13 scientists had ties to the biotech industry that violated the organizationâ€™s    policy. Such disclosures are rare for the academies, said William Kearney, a spokesman for the organization, but scientists with conflicts are sometimes allowed to work on a committee when the academies think the scientist has a specialty or knowledge that cannot be found elsewhere. Mr. Kearney would not, however, provide data on how frequently the academies have to disclose such conflicts, saying only that they are â€œrare. â€ The two scientists with conflicts are Dr. Steven Evans, a scientist at Dow AgroSciences, a major biotechnology company, and Jeffrey Wolt, a professor at Iowa State University, who the academies said has investments in a company that could benefit from the studyâ€™s results. The academies noted their conflicts when the panel members were announced. Dr. Evans and Professor Wolt referred questions about their role to Mr. Kearney. Mr. Kearney said the disclosed conflicts of interest were discovered during the usual vetting of panel members by the academies. The academies kept the scientists on the panel, he said, because they could not find anyone with the same expertise. But more than three dozen environmental and health advocates argue that the National Academies also allowed several other scientists with potential financial conflicts onto the panel without any disclosures. â€œSeveral members of this committee stand to benefit directly or indirectly from the rules and regulations their recommendations will help shape,â€ said Tim Schwab, a food researcher at Food  Water Watch, an advocacy group leading the group of critics. â€œNor does the committee include anyone who might advocate a more judicious approach to regulating the industry. â€ The group made note of Farren Isaacs, an assistant professor at Yale. Professor Isaacs is a founder of enEvolv, a   that engineers tiny organisms â€œto produce   chemicals. â€ DuPont, which has major investments in biotech, has funded Dr. Isaacsâ€™s research, and he holds two patents that could be used in synthetic biology. Professor Isaacs referred questions to Mr. Kearney. Mr. Kearney said all conflicts that violate the academiesâ€™    policy had been disclosed when the panel was announced. Professor Isaacs, he said, did not have a conflict that required disclosure because his companyâ€™s technologies are not now being used in biotech. â€œThe term â€˜conflict of interestâ€™ applies only to current interests, not prospective ones,â€ Mr. Kearney said. He said the same about similar questions raised about other members of the committee by the group of critics. (One panel member resigned: Richard Johnson, a former partner at Arnold  Porter, a law firm that counts many biotech companies as clients. Mr. Kearney attributed the decision to scheduling conflicts.) The job of finding the scientists to fill the 13 open spots on the biotech committee largely fell to Douglas Friedman, the â€œresponsible staff officer,â€ or study director. Such employees help the academies identify scientists to serve on a studyâ€™s panel, set the agenda for their meetings and oversee the production of the final report, among other tasks. But while Mr. Friedman, who has degrees in chemistry and chemical biology, was putting together his recommendations, he was also applying for a leadership job in the biotech world. In January, Mr. Friedman widely distributed an email seeking nominations for the panel. The email was one of many digital records about Mr. Friedman and the panel that were discovered by Food  Water Watch. The group found the records, including the emails and spreadsheets, through Google searches of the panelâ€™s members and shared them with The New York Times, which repeated the search and also found the documents. The records have since been removed from the websites where they had been cached. One recipient of the email was the Engineering Biology Research Consortium, a nonprofit dedicated to fostering and advancing synthetic biology research. According to the digital records discovered online, Mr. Friedman was firmly on the nonprofitâ€™s radar as a possible leader by the time he began his search for members for the National Academies panel. Ginni Ursin, a Monsanto executive on the nonprofitâ€™s board, commented on a spreadsheet dated December 2015 that Mr. Friedman was the â€œtop candidate by a decent margin. â€ The 13 scientists Mr. Friedman recommended to his superiors at the National Academies  â€”   including three members of the nonprofitâ€™s board  â€”   were all ultimately approved, he said. The panel was appointed in April, and in July, Mr. Friedman started as the new executive director of the Engineering Biology Research Consortium. In a phone interview, he said that he pursued the new job while helping to put the panel together but did not see any reason to tell the academies about the job search. He said he was only one of many layers in the process of appointing members to the biotech panel. And he said it was a coincidence that so many committee members also have roles at the nonprofit. â€œItâ€™s a relatively small community of people involved in the biotech space,â€ he said. But Mr. Kearney of the National Academies said Mr. Friedman should not have played the role he did in the selection of the committee in the midst of a job search he did not disclose. The National Academies, he said, are reviewing the selection process, including the oversight of the staff members who oversee it. â€œNo staff member,â€ he said, â€œshould be participating in the appointment of a committee with members who are also on the board of an organization with which he or she is negotiating employment. â€\"\n",
    "prediction_result = predict_news(input_text, new_model)\n",
    "print(f\"Prediction: {prediction_result}\")"
   ]
  },
  {
   "cell_type": "code",
   "execution_count": 6,
   "id": "654d8bfe-7f3d-4a7d-ac0d-acd8d2a27c25",
   "metadata": {},
   "outputs": [
    {
     "name": "stdout",
     "output_type": "stream",
     "text": [
      "1/1 [==============================] - 0s 84ms/step\n",
      "Prediction: Fake News\n"
     ]
    }
   ],
   "source": [
    "input_text=\"FBI Wiretapped Corruption Suspect Discussing Clinton Deals November 3, 2016 Daniel Greenfield  If you're wondering why Team Hillary panicked and unleashed hell on the FBI, this may be another ingredient in the stew. The Wall Street Journal article is clearly trying to spin things to the left and damage the credibility of the FBI, but it's an interesting data point . The FBI had secretly recorded conversations of a suspect in a public-corruption case talking about alleged deals the Clintons made, these people said. The agents listening to the recordings couldnâ€™t tell from the conversations if what the suspect was describing was accurate, but it was, they thought, worth checking out. Prosecutors thought the talk was hearsay and a weak basis to warrant aggressive tactics, like presenting evidence to a grand jury, because the person who was secretly recorded wasnâ€™t inside the Clinton Foundation. FBI investigators grew increasingly frustrated with resistance from the corruption prosecutors, and some executives at the bureau itself, to keep pursuing the case. As prosecutors rebuffed their requests to proceed more overtly, those Justice Department officials became more annoyed that the investigators didnâ€™t seem to understand or care about the instructions issued by their own bosses and prosecutors to act discreetly. In short, FBI people had material for a case that the government didn't want brought because Team Obama were Hillary backers and the senior leadership in the DOJ saw their careers linked to the rise of Hillary. And so a stand down order was handed down. Following the February meeting, officials at Justice Department headquarters sent a message to all the offices involved to â€œstand down,â€™â€™ a person familiar with the matter said. This is what happens when the DOJ has been so thoroughly corrupted from the top down. Meanwhile there's little doubt, considering what we already know, that the DOJ people had been updating Hillary's people on the FBI investigation. Should those emails come out, they will be some of the most damning of all. And so Hillary's people panicked and decided to pull the trigger.\"\n",
    "prediction_result = predict_news(input_text, new_model)\n",
    "print(f\"Prediction: {prediction_result}\")"
   ]
  },
  {
   "cell_type": "code",
   "execution_count": 7,
   "id": "937ad323-ebed-4245-a26b-5e06011a546d",
   "metadata": {},
   "outputs": [
    {
     "name": "stdout",
     "output_type": "stream",
     "text": [
      "1/1 [==============================] - 0s 58ms/step\n",
      "Prediction: Fake News\n"
     ]
    }
   ],
   "source": [
    "input_text=\"Videos 15 Civilians Killed In Single US Airstrike Have Been Identified The rate at which civilians are being killed by American airstrikes in Afghanistan is now higher than it was in 2014 when the US was engaged in active combat operations.   Photo of Hellfire missiles being loaded onto a US military Reaper drone in Afghanistan by Staff Sgt. Brian Ferguson/U.S. Air Force. The Bureau has been able to identify 15 civilians killed in a single US drone strike in Afghanistan last month â€“ the biggest loss of civilian life in one strike since the attack on the Medecins Sans Frontieres hospital (MSF) last October. The US claimed it had conducted a â€œcounter-terrorismâ€ strike against Islamic State (IS) fighters when it hit Nangarhar province with missiles on September 28. But the next day the United Nations issued an unusually rapid and strong statement saying the strike had killed 15 civilians and injured 13 others who had gathered at a house to celebrate a tribal elderâ€™s return from a pilgrimage to Mecca. The Bureau spoke to a man named Haji Rais who said he was the owner of the house that was targeted. He said 15 people were killed and 19 others injured, and provided their names (listed below). The Bureau was able to independently verify the identities of those who died. Raisâ€™ son, a headmaster at a local school, was among them. Another man, Abdul Hakim, lost three of his sons in the attack. Rais said he had no involvement with IS and denied US claims that IS members had visited his house before the strike. He said: â€œI did not even speak to those sort of people on the phone let alone receiving them in my house.â€ The deaths amount to the biggest confirmed loss of civilian life in a single American strike in Afghanistan since the attack on the MSF hospital in Kunduz last October, which killed at least 42 people. The Nangarhar strike was not the only US attack to kill civilians in September. The Bureauâ€™s data indicates that as many as 45 civilians and allied soldiers were killed in four American strikes in Afghanistan and Somalia that month. On September 18 a pair of strikes killed eight Afghan policemen in Tarinkot, the capital of Urozgan provice. US jets reportedly hit a police checkpoint, killing one officer, before returning to target first responders. The use of this tactic â€“ known as a â€œdouble-tapâ€ strike â€“ is controversial because they often hit civilian rescuers. The US told the Bureau it had conducted the strike against individuals firing on and posing a threat to Afghan forces. The email did not directly address the allegations of Afghan policemen being killed. At the end of the month in Somalia, citizens burnt US flags on the streets of the north-central city of Galcayo after it emerged a drone attack may have unintentionally killed 22 Somali soldiers and civilians. The strike occurred on the same day as the one in Nangarhar. In both the Somali and Afghan incidents, the US at first denied that any non-combatants had been killed. It is now investigating both the strikes in Nangarhar and Galcayo. The rate at which civilians are being killed by American airstrikes in Afghanistan is now higher than it was in 2014 when the US was engaged in active combat operations. Name\"\n",
    "prediction_result = predict_news(input_text, new_model)\n",
    "print(f\"Prediction: {prediction_result}\")"
   ]
  },
  {
   "cell_type": "code",
   "execution_count": 8,
   "id": "a16613a6-f6dd-4c52-8e45-70a003829fee",
   "metadata": {},
   "outputs": [
    {
     "name": "stdout",
     "output_type": "stream",
     "text": [
      "1/1 [==============================] - 0s 66ms/step\n",
      "Prediction: Real News\n"
     ]
    }
   ],
   "source": [
    "input_text=\"A week before Michael T. Flynn resigned as national security adviser, a sealed proposal was   to his office, outlining a way for President Trump to lift sanctions against Russia. Mr. Flynn is gone, having been caught lying about his own discussion of sanctions with the Russian ambassador. But the proposal, a peace plan for Ukraine and Russia, remains, along with those pushing it: Michael D. Cohen, the presidentâ€™s personal lawyer, who delivered the document Felix H. Sater, a business associate who helped Mr. Trump scout deals in Russia and a Ukrainian lawmaker trying to rise in a political opposition movement shaped in part by Mr. Trumpâ€™s former campaign manager Paul Manafort. At a time when Mr. Trumpâ€™s ties to Russia, and the people connected to him, are under heightened scrutiny  â€”   with investigations by American intelligence agencies, the F. B. I. and Congress  â€”   some of his associates remain willing and eager to wade into   efforts behind the scenes. Mr. Trump has confounded Democrats and Republicans alike with his repeated praise for the Russian president, Vladimir V. Putin, and his desire to forge an   alliance. While there is nothing illegal about such unofficial efforts, a proposal that seems to tip toward Russian interests may set off alarms. The amateur diplomats say their goal is simply to help settle a grueling,   conflict that has cost 10, 000 lives. â€œWho doesnâ€™t want to help bring about peace?â€ Mr. Cohen asked. But the proposal contains more than just a peace plan. Andrii V. Artemenko, the Ukrainian lawmaker, who sees himself as a   leader of a future Ukraine, claims to have evidence  â€”   â€œnames of companies, wire transfersâ€  â€”   showing corruption by the Ukrainian president, Petro O. Poroshenko, that could help oust him. And Mr. Artemenko said he had received encouragement for his plans from top aides to Mr. Putin. â€œA lot of people will call me a Russian agent, a U. S. agent, a C. I. A. agent,â€ Mr. Artemenko said. â€œBut how can you find a good solution between our countries if we do not talk?â€ Mr. Cohen and Mr. Sater said they had not spoken to Mr. Trump about the proposal, and have no experience in foreign policy. Mr. Cohen is one of several Trump associates under scrutiny in an F. B. I. counterintelligence examination of links with Russia, according to law enforcement officials he has denied any illicit connections. The two others involved in the effort have somewhat questionable pasts: Mr. Sater, 50, a   pleaded guilty to a role in a stock manipulation scheme decades ago that involved the Mafia. Mr. Artemenko spent two and a half years in jail in Kiev in the early 2000s on embezzlement charges, later dropped, which he said had been politically motivated. While it is unclear if the White House will take the proposal seriously, the diplomatic freelancing has infuriated Ukrainian officials. Ukraineâ€™s ambassador to the United States, Valeriy Chaly, said Mr. Artemenko â€œis not entitled to present any alternative peace plans on behalf of Ukraine to any foreign government, including the U. S. administration. â€ At a security conference in Munich on Friday, Mr. Poroshenko warned the West against â€œappeasementâ€ of Russia, and some American experts say offering Russia any alternative to a    international agreement on Ukraine would be a mistake. The Trump administration has sent mixed signals about the conflict in Ukraine. But given Mr. Trumpâ€™s praise for Mr. Putin, John Herbst, a former American ambassador to Ukraine, said he feared the new president might be too eager to mend relations with Russia at Ukraineâ€™s expense  â€”   potentially with a plan like Mr. Artemenkoâ€™s. It was late January when the three men associated with the proposed plan converged on the Loews Regency, a luxury hotel on Park Avenue in Manhattan where business deals are made in a lobby furnished with leather couches, over martinis at the restaurant bar and in private conference rooms on upper floors. Mr. Cohen, 50, lives two blocks up the street, in Trump Park Avenue. A lawyer who joined the Trump Organization in 2007 as special counsel, he has worked on many deals, including a   tower in the republic of Georgia and a   mixed martial arts venture starring a Russian fighter. He is considered a loyal lieutenant whom Mr. Trump trusts to fix difficult problems. The F. B. I. is reviewing an unverified dossier, compiled by a former British intelligence agent and funded by Mr. Trumpâ€™s political opponents, that claims Mr. Cohen met with a Russian representative in Prague during the presidential campaign to discuss Russiaâ€™s hacking of Democratic targets. But the Russian official named in the report told The New York Times that he had never met Mr. Cohen. Mr. Cohen insists that he has never visited Prague and that the dossierâ€™s assertions are fabrications. (Mr. Manafort is also under investigation by the F. B. I. for his connections to Russia and Ukraine.) Mr. Cohen has a personal connection to Ukraine: He is married to a Ukrainian woman and once worked with relatives there to establish an ethanol business. Mr. Artemenko, tall and burly, arrived at the Manhattan hotel between visits to Washington. (His wife, he said, met the first lady, Melania Trump, years ago during their modeling careers, but he did not try to meet Mr. Trump.) He had attended the inauguration and visited Congress, posting on Facebook his admiration for Mr. Trump and talking up his peace plan in meetings with American lawmakers. He entered Parliament in 2014, the year that the former Ukrainian president Viktor Yanukovych fled to Moscow amid protests over his economic alignment with Russia and corruption. Mr. Manafort, who had been instrumental in getting Mr. Yanukovych elected, helped shape a political bloc that sprang up to oppose the new president, Mr. Poroshenko, a wealthy businessman who has taken a far tougher stance toward Russia and accused Mr. Putin of wanting to absorb Ukraine into a new Russian Empire. Mr. Artemenko, 48, emerged from the opposition that Mr. Manafort nurtured. (The two men have never met, Mr. Artemenko said.) Before entering politics, Mr. Artemenko had business ventures in the Middle East and real estate deals in the Miami area, and had worked as an agent representing top Ukrainian athletes. Some colleagues in Parliament describe him as corrupt, untrustworthy or simply insignificant, but he appears to have amassed considerable wealth. He has fashioned himself in the image of Mr. Trump, presenting himself as Ukraineâ€™s answer to a rising class of nationalist leaders in the West. He even traveled to Cleveland last summer for the Republican National Convention, seizing on the chance to meet with members of Mr. Trumpâ€™s campaign. â€œItâ€™s time for new leaders, new approaches to the governance of the country, new principles and new negotiators in international politics,â€ he wrote on Facebook on Jan. 27. â€œOur time has come!â€ Mr. Artemenko said he saw in Mr. Trump an opportunity to advocate a plan for peace in Ukraine  â€”   and help advance his own political career. Essentially, his plan would require the withdrawal of all Russian forces from eastern Ukraine. Ukrainian voters would decide in a referendum whether Crimea, the Ukrainian territory seized by Russia in 2014, would be leased to Russia for a term of 50 or 100 years. The Ukrainian ambassador, Mr. Chaly, rejected a lease of that kind. â€œIt is a gross violation of the Constitution,â€ he said in written answers to questions from The Times. â€œSuch ideas can be pitched or pushed through only by those openly or covertly representing Russian interests. â€ The reaction suggested why Mr. Artemenkoâ€™s project also includes the dissemination of â€œkompromat,â€ or compromising material, purportedly showing that Mr. Poroshenko and his closest associates are corrupt. Only a new government, presumably one less hostile to Russia, might take up his plan. Mr. Sater, a longtime business associate of Mr. Trumpâ€™s with connections in Russia, was willing to help Mr. Artemenkoâ€™s proposal reach the White House. Mr. Trump has sought to distance himself from Mr. Sater in recent years. If Mr. Sater â€œwere sitting in the room right now,â€ Mr. Trump said in a 2013 deposition, â€œI really wouldnâ€™t know what he looked like. â€ But Mr. Sater worked on real estate development deals with the Trump Organization on and off for at least a decade, even after his role in the stock manipulation scheme came to light. Mr. Sater, who was born in the Soviet Union and grew up in New York, served as an executive at a firm called Bayrock Group, two floors below the Trump Organization in Trump Tower, and was later a senior adviser to Mr. Trump. He said he had been working on a plan for a Trump Tower in Moscow with a Russian real estate developer as recently as the fall of 2015, one that he said had come to a halt because of Mr. Trumpâ€™s presidential campaign. (Mr. Cohen said the Trump Organization had received a letter of intent for a project in Moscow from a Russian real estate developer at that time but determined that the project was not feasible.) Mr. Artemenko said a mutual friend had put him in touch with Mr. Sater. Helping to advance the proposal, Mr. Sater said, made sense. â€œI want to stop a war, number one,â€ he said. â€œNumber two, I absolutely believe that the U. S. and Russia need to be allies, not enemies. If I could achieve both in one stroke, it would be a home run. â€ After speaking with Mr. Sater and Mr. Artemenko in person, Mr. Cohen said he would deliver the plan to the White House. Mr. Cohen said he did not know who in the Russian government had offered encouragement on it, as Mr. Artemenko claims, but he understood there was a promise of proof of corruption by the Ukrainian president. â€œFraud is never good, right?â€ Mr. Cohen said. He said Mr. Sater had given him the written proposal in a sealed envelope. When Mr. Cohen met with Mr. Trump in the Oval Office in early February, he said, he left the proposal in Mr. Flynnâ€™s office. Mr. Cohen said he was waiting for a response when Mr. Flynn was forced from his post. Now Mr. Cohen, Mr. Sater and Mr. Artemenko are hoping a new national security adviser will take up their cause. On Friday the president wrote on Twitter that he had four new candidates for the job.\"\n",
    "prediction_result = predict_news(input_text, new_model)\n",
    "print(f\"Prediction: {prediction_result}\")"
   ]
  },
  {
   "cell_type": "code",
   "execution_count": 9,
   "id": "4fc8530e-c4ba-49c8-b68e-ed3816fd0a2e",
   "metadata": {},
   "outputs": [
    {
     "name": "stdout",
     "output_type": "stream",
     "text": [
      "1/1 [==============================] - 0s 62ms/step\n",
      "Prediction: Fake News\n"
     ]
    }
   ],
   "source": [
    "input_text=\"Clinton Campaign Demands FBI Affirm Trump's Russia Ties  With the 2016 election campaign winding down, the Clinton campaign is ratcheting up demands for the FBI to publicly confirm the campaignâ€™s allegations that Republican nominee Donald Trump is secretly in league with Russia. Sen. Harry Reid (D â€“ NV) went so far as to claim the FBI has secret â€œexplosiveâ€ evidence of coordination between the Trump campaign and the Russian government that it is withholding. FBI officials familiar with their investigations into the allegations, which the Clinton campaign started publicizing around the Democratic National Convention, say theyâ€™ve turned up nothing to connect Trump and Russia , leading FBI Director James Comey to decide against making any statements to that effect. The Clinton campaign has been making the allegations so long that they have taken to claiming â€œeveryone knowsâ€ that they are true, and appears unsettled by the FBIâ€™s refusal to sign off on the claims simply because they havenâ€™t been able to find real evidence corroborating the story. The Trump campaign has repeatedly denied ties to Russia, but that didnâ€™t stop Clinton from calling Trump a â€œpuppetâ€ of Russian President Vladimir Putin during the final presidential debate. The calls have grown since Fridayâ€™s FBI report to Congress about further Clinton emails being sought. With Clintonâ€™s main campaign scandal growing in the waning weeks of the deal, some in her campaign have suggested that affirming Trump as secretly in league with the Russians would only be fair. Absent any evidence, however, it appears that wonâ€™t be happening.  \"\n",
    "prediction_result = predict_news(input_text, new_model)\n",
    "print(f\"Prediction: {prediction_result}\")"
   ]
  },
  {
   "cell_type": "code",
   "execution_count": 10,
   "id": "04caa9d6-c75c-47ba-ba4e-77ae86dacd06",
   "metadata": {},
   "outputs": [
    {
     "name": "stdout",
     "output_type": "stream",
     "text": [
      "1/1 [==============================] - 0s 79ms/step\n",
      "Prediction: Fake News\n"
     ]
    }
   ],
   "source": [
    "input_text=\"The mystery surrounding The Third Reich and Nazi Germany is still a subject of debate between many observers. Some believe that Nazi Germany, under the control of Adolf Hitler, possessed supernatural powers, and largely employed pseudo-science during the 1933-1945 period. However, some also hold that the above belief is just a mere speculation without any proven fact. Over the years, researchers have searched extensively for answers to some of the more mysterious activities associated with Nazi Germany.Nazi Germany invaded Russia (formerly the USSR) during the Second World War on June 22, 1941. At the time, the German army progressed deep into Russian territory, gaining ground close to the capital Moscow, before the Russians could counter-attack, eventually driving the Nazis back.During the Nazi occupation in Russia, in 1942, the Nazis built a secret military base around the Arctic, code-named â€œSchatzgraberâ€ or â€œTreasure Hunter,â€ which was reportedly very instrumental in the war against Russia. The base was primarily used as a tactical weather station for planning the strategic movements of Nazi troops, warships and submarines. The base also housed eminent Nazi scientists, whom conducted many experiments to help progress a German win of the war. It was widely speculated at the time that the Nazis used the base to contact aliens or extraterrestrial beings. The controversial Ahnenerbe was even linked to the base. The Ahnenerbe was an institute in Nazi Germany. Responsible for researching archaeological and cultural history of the Aryan race, it is rumored to have had heavy occult influences. Founded on July 1, 1935, by Heinrich Himmler, Herman Wirth and Richard Walther DarrÃ©, the Ahnenerbe later conducted experiments and launched expeditions in attempts to prove that mythological Nordic populations had once ruled the world.However, the Nazis abandoned the base in 1944 â€“ a time when the Russian army began its offensive, pushing the Germans out of the country. According to a war-time story, supplies had dwindled to dangerously low levels, and the Nazi officers stationed at the base outpost were forced to kill and eat polar bear, which ultimately, was infected with trichinosis. This caused those stationed at the base to fall severely ill and eventually they required rescue by a German U-boat. Despite Russian authors telling the story of â€œTreasure Hunter,â€ some observers consider it a myth, doubting its existence.But Russian researchers have now announced that â€œTreasure Hunterâ€ has been discovered, saying the base is on the island of Alexandra Land in the Arctic Circle, located 620 miles from the North Pole.A senior researcher at the Russian Arctic National Park, Evgeny Ermolov said in a statement announcing the discovery : â€œBefore it was only known from written sources, but now we also have real proof.â€\"\n",
    "prediction_result = predict_news(input_text, new_model)\n",
    "print(f\"Prediction: {prediction_result}\")"
   ]
  },
  {
   "cell_type": "code",
   "execution_count": 12,
   "id": "05acf4e9-b14c-4b48-8afa-1f28cfd8885e",
   "metadata": {},
   "outputs": [
    {
     "name": "stdout",
     "output_type": "stream",
     "text": [
      "1/1 [==============================] - 0s 54ms/step\n",
      "Prediction: Fake News\n"
     ]
    }
   ],
   "source": [
    "input_text=\"Ever get the feeling your life circles the roundabout rather than heads in a straight line toward the intended destination? [Hillary Clinton remains the big woman on campus in leafy, liberal Wellesley, Massachusetts. Everywhere else votes her most likely to don her inauguration dress for the remainder of her days the way Miss Havisham forever wore that wedding dress.  Speaking of Great Expectations, Hillary Rodham overflowed with them 48 years ago when she first addressed a Wellesley graduating class. The president of the college informed those gathered in 1969 that the students needed â€œno debate so far as I could ascertain as to who their spokesman was to beâ€ (kind of the like the Democratic primaries in 2016 minus the   terms unknown then even at a Seven Sisters school). â€œI am very glad that Miss Adams made it clear that what I am speaking for today is all of us â€”  the 400 of us,â€ Miss Rodham told her classmates. After appointing herself Edger Bergen to the Charlie McCarthys and Mortimer Snerds in attendance, the    bespectacled in granny glasses (awarding her matronly wisdom â€”  or at least John Lennon wisdom) took issue with the previous speaker. Despite becoming the first   to win election to a seat in the U. S. Senate since Reconstruction, Edward Brooke came in for criticism for calling for â€œempathyâ€ for the goals of protestors as he criticized tactics. Though Clinton in her senior thesis on Saul Alinsky lamented â€œBlack Power demagoguesâ€ and â€œelitist arrogance and repressive intoleranceâ€ within the New Left, similar words coming out of a Republican necessitated a brief rebuttal. â€œTrust,â€ Rodham ironically observed in 1969, â€œthis is one word that when I asked the class at our rehearsal what it was they wanted me to say for them, everyone came up to me and said â€˜Talk about trust, talk about the lack of trust both for us and the way we feel about others. Talk about the trust bust.â€™ What can you say about it? What can you say about a feeling that permeates a generation and that perhaps is not even understood by those who are distrusted?â€ The â€œtrust bustâ€ certainly busted Clintonâ€™s 2016 plans. She certainly did not even understand that people distrusted her. After Whitewater, Travelgate, the vast   conspiracy, Benghazi, and the missing emails, Clinton found herself the distrusted voice on Friday. There was a load of compromising on the road to the broadening of her political horizons. And distrust from the American people â€”  Trump edged her 48 percent to 38 percent on the question immediately prior to Novemberâ€™s election â€”  stood as a major reason for the closing of those horizons. Clinton described her vanquisher and his supporters as embracing a â€œlie,â€ a â€œcon,â€ â€œalternative facts,â€ and â€œa   assault on truth and reason. â€ She failed to explain why the American people chose his lies over her truth. â€œAs the history majors among you here today know all too well, when people in power invent their own facts and attack those who question them, it can mark the beginning of the end of a free society,â€ she offered. â€œThat is not hyperbole. â€ Like so many people to emerge from the 1960s, Hillary Clinton embarked upon a long, strange trip. From high school Goldwater Girl and Wellesley College Republican president to Democratic politician, Clinton drank in the times and the place that gave her a degree. More significantly, she went from idealist to cynic, as a comparison of her two Wellesley commencement addresses show. Way back when, she lamented that â€œfor too long our leaders have viewed politics as the art of the possible, and the challenge now is to practice politics as the art of making what appears to be impossible possible. â€ Now, as the big woman on campus but the odd woman out of the White House, she wonders how her current station is even possible. â€œWhy arenâ€™t I 50 points ahead?â€ she asked in September. In May she asks why she isnâ€™t president. The woman famously dubbed a â€œcongenital liarâ€ by Bill Safire concludes that lies did her in â€”  theirs, mind you, not hers. Getting stood up on Election Day, like finding yourself the jilted bride on your wedding day, inspires dangerous delusions.\"\n",
    "prediction_result = predict_news(input_text, new_model)\n",
    "print(f\"Prediction: {prediction_result}\")"
   ]
  },
  {
   "cell_type": "code",
   "execution_count": 14,
   "id": "872f992b-75d2-489a-a9c3-23d654611c2c",
   "metadata": {},
   "outputs": [
    {
     "name": "stdout",
     "output_type": "stream",
     "text": [
      "1/1 [==============================] - 0s 46ms/step\n",
      "Prediction: Real News\n"
     ]
    }
   ],
   "source": [
    "input_text=\" The BBC produced spoof on the â€œReal Housewivesâ€ TV programmes, which has a comedic Islamic State twist, has been criticised by Leftists and Muslims who claim the sketch is offensive. [The BBC released the trailer earlier this week and were immediately slammed by those on the left and Muslims who thought that making fun of the brides of members of the terror group was out of the bounds of conventional humour. The sketch is part of a new programme called â€œRevoltingâ€ written by Jolyon Rubinstein and Heydon Prowse which, according to the BBC, is â€œsatirising the state of the nation. â€  LOLOLOL pic. twitter.   â€”   Raheem Kassam (@RaheemKassam) January 4, 2017,  The BBC2 Facebook page was inundated with criticism. One user wrote, â€œIâ€™m mortified that the BBC had produced such a programme. This is simply bad taste. The fact it is a comedy makes it even more worrying that humour should be associated with the actions of ISIS. Is this really what TV licenses are funding! ?â€ Others took a different point of view including a Muslim saying, â€œAs a Muslim I find this HILARIOUS! Brilliant! The satire is on point highlighting the pathetic ideals of a pathetic group like ISIS. â€ Not all Muslims agreed with the sentiment and users on Twitter expressed just as much outrage for the sketch. One man, a Bangladeshi, said â€œThe BBC really made a satirical show called â€˜The Real Housewives of ISISâ€™ while the real housewives of ISIS are being raped and abused daily. â€   The BBC really made a satirical show called â€The Real Housewives of ISISâ€ while the real housewives of ISIS are being raped and abused daily,  â€”   Meraj. (@UncleMeraj) January 4, 2017,  Another wrote, â€œâ€˜Real Housewives of ISISâ€™ will make Hijabis feel more isolated n targeted by Islamophobes. Thanks @BBC for adding to the negative stereotype. â€ â€™Real Housewives of ISISâ€™ will make Hijabis feel more isolated n targeted by Islamophobes. Thanks @BBC for adding to the negative stereotype,  â€”   aÑ•Ð½ (@AshKaneSkittles) January 4, 2017,  Leftists also articulated how offended they were that the public broadcaster would dare create such a sketch mocking Islamic State. Some questioned whether the use of taxpayer money via the TV license fee should go toward the funding of the programme. As if peopleâ€™s TV license in this country is going towards funding the production of a programme called â€the real housewives of ISISâ€. Wow,  â€”   Cameron Edgar (@CammyyyEdgar) January 4, 2017,    The video itself has already been viewed millions of times on Facebook and other social media platforms.  The clip shows several women in hijabs talking to each other in a    house taking selfies and showing off their suicide belts to each other. One woman even mentions that she hadnâ€™t come from Birmingham â€œto do thisâ€ as she scrubbed the floor of the home. Women joining Islamic State and travelling to Syria to become brides has become a real problem in European countries as the terror group promises young girls a more glamorous lifestyle. In 2014, eight schoolgirls from Bethnal Green travelled to Syria to become brides of Islamic State fighters, all of them under the age of 18.\"\n",
    "prediction_result = predict_news(input_text, new_model)\n",
    "print(f\"Prediction: {prediction_result}\")"
   ]
  },
  {
   "cell_type": "code",
   "execution_count": 15,
   "id": "615bccea-f0a4-4b1b-bb90-bcea24543efa",
   "metadata": {},
   "outputs": [
    {
     "name": "stdout",
     "output_type": "stream",
     "text": [
      "1/1 [==============================] - 0s 49ms/step\n",
      "Prediction: Fake News\n"
     ]
    }
   ],
   "source": [
    "input_text=\"In parts one and two of our guided tour of the Deep State, we looked at two anchors of the Federal Triangle in downtown DC, the Department of Commerce and the Environmental Protection Agency.  And while Virgil looks forward to continuing his tour of the Triangle and other nodes of the Deep State, sometimes breaking news breaks in, and so we should pause to consider the latest. [On March 10, from his podium at the James S. Brady Press Briefing Room at the White House, President Trumpâ€™s press secretary, Sean Spicer, was asked about the Deep State.  The question:   Does the White House believe in a â€œDeep Stateâ€ that is actively working to undermine the president? And hereâ€™s Spicerâ€™s answer:  I think that thereâ€™s no question when you have eight years of one party in office, there are people who stay in government â€”  and continue to espouse the agenda of the previous administration.  So I donâ€™t think it should come as any surprise there are people that burrowed into government during eight years of the last administration and may have believed in that agenda and want to continue to seek it.  I donâ€™t think that should come as a surprise. In other words, Spicerâ€™s answer to the answer to the question was â€œYes. â€  So now there can be no doubt that the concept of the Deep State will be discussed for a long time to come.  And yet if Virgil might be permitted to quibble with Spicer, he would say that the Deep State is a lot deeper than just the past eight years â€”  weâ€™ll come back to that point. But first, letâ€™s hear from other voices on the issue of whether or not thereâ€™s a Deep State.  As we can see, itâ€™s gaining a critical mass of recognition, at least on the right.  And thatâ€™s good, because, as they say, forewarned is forearmed.   On March 5, former House speaker Newt Gingrich made himself clear â€”  as he always does:  There is an active Deep State opposition to a populist disruptive reformer.  Many [in the government] believe it is their duty to break the law and lie.  For Trump to succeed, there will have to be profound overhaul of the bureaucracy. A few days later, Rep. Mike Kelly ( ) didnâ€™t use the actual words â€œDeep State,â€ but his point was the same when he described the situation in Powertown: â€œThe same people were there, and they donâ€™t think the new owners or the new managers should be running the ship. â€  And then Kelly added this point about former president Barack Obama: Heâ€™s only there for one purpose and one purpose only, and that is to run a shadow government that is totally going to upset the new agenda. So is the 44th president setting up a permanent campaign against the 45th president?  Obama denies any such intention he says that he and his family are remaining in Washington so that his youngest daughter, Sasha, can finish high school.  Of course, that explanation doesnâ€™t quite tell us why former White House consigliere Valerie Jarrett has moved into the Obamasâ€™    home in the swanky Kalorama neighborhood, just a couple miles north of the White House. In fact, the real goal of the relocation, according to The Daily Mail, is to â€œoust Trump from the presidency either by forcing his resignation or through his impeachment. â€ Meanwhile, others in Congress, too, are eyeing closely the shadowy armada arrayed against the new administration.  In the words of Rep. Thomas Massie ( ) â€œI think itâ€™s really the Deep State vs. the president, the duly elected president. â€ And on March 9, Fox Newsâ€™ Sean Hannity, was even more direct:  Deep State Obama holdovers embedded like barnacles in the federal bureaucracy are   on destroying President Trump.  Itâ€™s time for the Trump administration to purge these saboteurs. Interestingly, by coincidence, or perhaps not, the very next day President Trumpâ€™s Justice Department ordered the firing of 46 US Attorneys, all Obama holdovers.   Still, some in the Main Stream Media, even now, choose to deny that there is any such thing as a Deep State.  One such is David Ignatius, veteran columnist for The Washington Post, who wrote on March 7 that what weâ€™re seeing is simply the collision of President Trump and the properly established legal system:  Some [Trump] supporters claim heâ€™s facing a secret coup from an intelligence and foreign policy establishment that constitutes a despotic â€œdeep state. â€ But really, Trump is confronting the orderly process we call the â€œrule of law. â€ Virgil thinks that itâ€™s rich, indeed, for Ignatius to insist that thereâ€™s nothing going on except the proper rule of law.  Why?  Because it was Ignatiusâ€™ own reporting, back on January 12, that demonstrated the   power of the Deep State.  That was the report that revealed that on December 29, Michael Flynn, named as Trumpâ€™s national security adviser in the new administration, had been intercepted talking on the phone to the Russian ambassador to the US, Sergey Kislyak.  And from that first report, events tumbled, and as we all know, Flynn resigned from his White House post on February 13.  And yet a few days after that Ignatius story ran on January 12, Virgil wondered aloud how he got the information about a private phone call: â€œNow how did Ignatius know that?â€  That is, how did Ignatius learn about the   conversation?  Continuing, Virgil wrote back then, â€œThe Postman wonâ€™t say, other than that he got his information from a â€˜senior US government official. â€™â€  Virgil then pointed out that even if was legal to record the call â€”  yes, itâ€™s smart to surveil Russians â€”  itâ€™s not legal to leak such information to the media, especially if it involves an American citizen.  â€œSuch disclosures arenâ€™t legal,â€ Virgil added with a sigh, â€œbut once again, nobody in Washington, DC, seems to care. â€ So we can see: In the Flynn case, the power of the Deep State wasnâ€™t at all about the â€œrule of law. â€  It was about just the opposite.   Others, too, take the Ignatius line â€”  even if their denials are weirdly weak and  .  Here, for example is a March 9 headline in Politico, the bible of the Beltway: â€œThe Deep State Is a Figment of Steve Bannonâ€™s Imagination. â€ The author, Loren DeJonge Schulman, starts out by firing both barrels at Bannon and anyone else who might have suspicions about the Deep State: Hereâ€™s a handy rule for assessing the credibility of what youâ€™re reading about national security in the Trump era: If somebody uses the term â€œDeep State,â€ you can be pretty sure they have no idea what theyâ€™re talking about.  Got that?  Nothing to see here: So if you hear Spicer, Gingrich, Kelly, Massie, Hannity â€”  or, of course, olâ€™ Virgil â€”  nattering on about the Deep State, well, have a dunce cap handy.    So whoâ€™s the author of this donâ€™     piece?  We can see from her bio that Loren DeJonge Schulman, who now works at a     in DC, has an extensive background in the politics of the Democratic Party and the Deep State, both.    So maybe itâ€™s not so surprising that Schulman wouldnâ€™t want anyone nosing around too much in Deep State matters.   After all, nobody likes being snooped on, right?   In fact, Virgil is reminded of the 1999 Brad Pitt movie, Fight Club, featuring these   lines:  Welcome to Fight Club.  The first rule of Fight Club is: you do not talk about Fight Club.  The second rule of Fight Club is: you DO NOT talk about Fight Club! That was Hollywoodâ€™s way of expressing the most basic wisdom of any secret enterprise: Keep it secret!  So Virgil was surprised to see how Schulman chose to end her denial piece.  After nearly 2000 words of mercilessly mocking the idea that there was any such thing as a Deep State, Schulman closed by . . . outing herself as a Deep Stater:  So the next time you hear someone using the term Deep State, send them a copy of this article.  Ask them to stop using it.  Tell them the term betrays their ignorance, and obscures and misleads far more than it illuminates.  And if that doesnâ€™t work, well, we Deep Staters will take matters into our own hands. [emphasis added] One supposes that Schulman would say that her final words were just her way of being funny: What an arch sense of humor she has!  And no doubt she got some yuks from her pals in Cleveland Park, Crystal City, and Chevy Chase.  Meanwhile, other Americans, curious about how they are being governed, might wonder whatâ€™s so funny about being threatened by a   Beltway apparatchik.  Yes, an attempt at humor, however ominous, is one possible explanation for Schulmanâ€™s close.  Another possibility is that she is, in fact, proud to be a Deep Stater, and that her pride shines right through her feigned irony.  That is, she is eager to signal to her friends and colleagues in the Deep State that she is truly one of them, even as she laughs it off.   \"\n",
    "prediction_result = predict_news(input_text, new_model)\n",
    "print(f\"Prediction: {prediction_result}\")"
   ]
  },
  {
   "cell_type": "code",
   "execution_count": 19,
   "id": "8565fa9a-1f5d-4bf4-abca-f18151e1dfc4",
   "metadata": {},
   "outputs": [
    {
     "name": "stdout",
     "output_type": "stream",
     "text": [
      "1/1 [==============================] - 0s 62ms/step\n",
      "Prediction: Real News\n"
     ]
    }
   ],
   "source": [
    "input_text=\"The Secret Service is investigating a burlesque dancer from Kentucky after she posted a Tweet that said she hoped someone would be â€œkind enoughâ€ to assassinate President Donald Trump. [â€œIf someone was cruel enough to assassinate MLK, maybe someone will be kind enough to assassinate Trump,â€ Heather Lowrey, 26, of Louisville wrote on Twitter.  The Secret Service confirmed it interviewed Lowrey and is still investigating the incident, the New York Daily News reported. Lowrey posted the Tweet Jan. 17, three days before Trumpâ€™s inauguration. The Tweet disappeared not long after it was posted, along with all her social media accounts. The bio on her profile said she was a â€œa Louisville Vixen and aspiring WWE divaâ€ before the account was taken down, the Daily News reported. No charges have been announced against her yet, but her former employers have already issued statements denouncing the Tweet and have severed ties with her, WAVE reported. Va Va Vixens, a burlesque group in Louisville, let Lowrey go as soon as they found out about the incident, citing a â€œzero tolerance policyâ€ for her behavior. â€œWe do not condone hate by any party and will not partake in it. We in no way support negative behavior or malicious intent from anyone,â€ the group said. American Income Life, Travis Moody Office, also severed ties with Lowrey and issued a statement on the companyâ€™s Facebook page saying, â€œHeather Lowrey is no longer contracted with the Travis Moody Agency. â€ â€œThe Travis Moody Agency, its agents and its staff do not share the same views, nor opinions as Heather Lowrey. We have a zero tolerance policy and would never condone this behavior,â€ the company said. She is the only person to face a federal investigation for posting about the assassination of President Trump. The Secret Service is also reportedly looking into Madonnaâ€™s comments at the Womenâ€™s March on Washington Saturday after the singer said she had thought of â€œblowing up the White House. â€\"\n",
    "prediction_result = predict_news(input_text, new_model)\n",
    "print(f\"Prediction: {prediction_result}\")"
   ]
  },
  {
   "cell_type": "code",
   "execution_count": 23,
   "id": "3b573a9d-4b01-4749-b737-96f597ed3922",
   "metadata": {},
   "outputs": [
    {
     "name": "stdout",
     "output_type": "stream",
     "text": [
      "1/1 [==============================] - 0s 62ms/step\n",
      "Prediction: Fake News\n"
     ]
    }
   ],
   "source": [
    "input_text=\"WASHINGTON  â€”   President Trump received an urgent warning in February, informing him of a crucial date he was about to miss. â€œFYI manufacturing deadlines for the Easter eggs are near,â€ said a Twitter post directed at Mr. Trump the first lady, Melania Trump and the presidentâ€™s daughter Ivanka Trump. â€œPlease reach out!â€ The message came from Wells Wood Turning  Finishing, the company that supplies commemorative wooden eggs for the annual White House Easter Egg Roll, the    celebration that has drawn 35, 000 people to the South Lawn in recent years. The staff of the company, based in Buckfield, Me. wondered whether the Trumps planned to continue distributing the wooden eggs as party favors, or whether they were even going to have a White House Easter Egg Roll at all. By early March, the White House announced that the roll was on  â€”   Monday, to be exact  â€”   and soon followed up with a rush order for the wooden eggs. By that time, the ovoid uncertainty had raised a question perhaps not as consequential as investigations into Russian interference in the presidential election, a legally dubious travel ban and a collapsed health care bill, but no less a window into the inner workings of the Trump administration: Could this White House, plagued by slow hiring and lacking an   first lady, manage to pull off the largest, most elaborate and most heavily scrutinized public event of the year? â€œItâ€™s the single most   event that takes place at the White House each year, and the White House and the first lady are judged on how well they put it on,â€ said Melinda Bates, who organized eight years of Easter Egg Rolls as director of the White House Visitors Office under President Bill Clinton. â€œIâ€™m really concerned for the Trump people, because they have failed to fill some really vital posts, and this thing is all hands on deck. â€ White House party catastrophes have been the stuff of presidential nightmares in the past. During his first year in office, President Barack Obama drew harsh criticism for lax security procedures after a pair of aspiring   celebrities successfully crashed a state dinner honoring the prime minister of India, with one of them managing to buttonhole Mr. Obama for a handshake. The late start in planning by the Trump White House points to a smaller and less ambitious Egg Roll than in previous years. There may be half as many guests, a fraction of the number of volunteers to manage the invasion of the South Lawn, and military bands in place of   entertainers like Justin Bieber, Ariana Grande, Idina Menzel and SilentÃ³ who have performed for Egg Rolls past. White House officials did not respond to several weeksâ€™ worth of inquiries about the Easter Egg Roll, typically a heavily and enthusiastically promoted affair, and declined to provide basic information such as how many people are expected to attend. It is unclear, for instance, whether Sean Spicer, the White House press secretary, will reprise his appearance in a bunny suit for the event, as he did a decade ago when George W. Bush was president and Mr. Spicer was an aide in the Office of the United States Trade Representative. Stephanie Grisham, who started as Mrs. Trumpâ€™s communications director on Monday, had previously denied that the event was being scaled back from past years. But she acknowledged on Tuesday that attendance this year would be â€œa bit less,â€ based on feedback from former officials who had said â€œthe event had become so large that many children were not able to enjoy the planned activities. â€ â€œOur team has been working very hard to make this yearâ€™s event a success,â€ Ms. Grisham said. â€œI am confident that the success of this yearâ€™s Easter Egg Roll will speak for itself. â€ The evidence points to a quickly   affair that people close to the planning said would probably draw about 20, 000 people  â€”   substantially smaller than last yearâ€™s Easter Egg Roll, which drew 37, 000. It will be staffed by 500 volunteers, Ms. Grisham said, half the usual. Ms. Grisham said she did not have â€œfirm numbersâ€ on the overall number of attendees, and those who provided estimates did so on the condition of anonymity because they were not authorized to describe the plans for the Easter Egg Roll, which are still evolving just a week before the event. The White House has ordered 40, 000 of the commemorative eggs  â€”   about half of the roughly 85, 000 ordered in 2016  â€”   with 18, 000 to be given away at the Easter Egg Roll and another 22, 000 available for sale, according to Lara Kline, the vice president for marketing and communications at the White House Historical Association, the official retailer. The relatively small number, Ms. Kline said, â€œis due to the limited manufacturing window for this yearâ€™s Easter Egg Roll. â€ The employees at Wells Wood Turning were not alone in wondering whether the White House would ever get in touch.   public schools that normally receive blocks of tickets for as many as 4, 000 children have yet to hear from the White House, according to representatives for school systems in the District of Columbia Arlington, Va. and Alexandria, Va. Several groups representing military families, who have accounted for as many as 3, 000 guests in recent years, also said they had yet to be contacted. â€œIâ€™ve had quite a few families from across the country reach out and say: â€˜Hey, are we getting tickets? Our family wants to drive in for the event,â€™â€ said Ashley   the president of the American Military Partner Association, which represents the families of gay, lesbian, bisexual and transgender service members and has received tickets for five to 10 of them for each of the last several years. â€œUnfortunately, the Trump administration has not reached out about it. â€ But Ms. Grisham said on Tuesday that tickets had been set aside for schools, childrenâ€™s hospitals and military families. She could not say how many. Even Curious George and Elmo did not know for sure that the Easter Egg Roll was happening until late last month, when the White House first contacted PBS Kids to ask if it could provide costumed characters. â€œWe just got word about this yearâ€™s Egg Roll and are working on planning,â€ Jennifer Rankin Byrne, the senior director of media relations for PBS, said on March 20. The Easter Egg Roll has been crowded in past years with cast members from â€œSesame Street,â€ but this year, there will be a lone emissary. â€œPBS asked us to participate with them, and we agreed to provide a â€˜Sesame Streetâ€™ character,â€ said Elizabeth Weinreb Fishman, the vice president for strategic communications for Sesame Workshop. She declined to say which character would attend, referring questions to the White House. Members of Congress have not received word from the White House about whether they will get tickets to distribute to their constituents. One aide to a Republican lawmaker said White House officials â€œseem to be a bit behind schedule. â€ Nor have the organizers of the Yoga Garden featured on the South Lawn during   Easter Egg Rolls been asked to share their asanas. â€œNo one has reached out to me about the 2017 event,â€ said Leah Cullis, the yogi who coordinated the Yoga Garden for all eight of the Obamasâ€™ Easter Egg Rolls. Mrs. Trump, who lives in New York and has had a limited presence in Washington since her husband was sworn in, has been slow to hire a staff for the East Wing, which typically takes the lead on the Easter Egg Roll. She named a chief of staff and social secretary in early February but has yet to announce a director for the Visitors Office, normally the crucial player in the daunting execution of the event. â€œYou donâ€™t understand what a beast this thing is to plan until you go and plan your first one,â€ said Ellie Schafer, who organized Easter Egg Rolls for the Obamas as the director of the White House Visitors Office from 2009 to 2016. â€œEvery administration tries to put its own stamp on it, but the stakes are high because itâ€™s such a Washington tradition, and people just love it and have very strong feelings about it. â€ Ms. Bates, whose memoir â€œWhite House Storyâ€ documents the challenges of planning   Easter Egg Rolls, said the event was a window  â€”   up to a point  â€”   into the competence of an administration. â€œIf you can pull off an Easter Egg Roll,â€ she said, â€œyou can do anything. â€\"\n",
    "prediction_result = predict_news(input_text, new_model)\n",
    "print(f\"Prediction: {prediction_result}\")"
   ]
  },
  {
   "cell_type": "code",
   "execution_count": 24,
   "id": "5e225a4f-65b8-4bc1-999a-9d3e1559993a",
   "metadata": {},
   "outputs": [
    {
     "name": "stdout",
     "output_type": "stream",
     "text": [
      "1/1 [==============================] - 0s 50ms/step\n",
      "Prediction: Real News\n"
     ]
    }
   ],
   "source": [
    "input_text=\"Normani Kordei, a member of the girl group on the rise Fifth Harmony, sat for a lighthearted Facebook Live interview earlier this month. Within a week, she had been chased off Twitter by a mob spewing racist insults. â€œIâ€™ve not just been cyber bullied, Iâ€™ve been racially cyber bullied with tweets and pictures so horrific and racially charged that I canâ€™t subject myself any longer to the hate,â€ she wrote. Her account has been silent since. Online harassment has become a depressingly common workplace hazard for people of color in the public eye. Last month, the â€œGhostbustersâ€ star Leslie Jones temporarily quit Twitter after weathering a deluge of racist abuse. And last year, the Brazilian actress TaÃ­s AraÃºjo reported a series of harassers to the police after they had inundated her Facebook page with similar comments. But the racist taunts hurled at Ms. Kordei didnâ€™t originate from some white supremacist message board, or even from a crew of Fifth Harmony haters. It came from within the Fifth Harmony fandom itself. The incident illuminates some strange similarities between the bands of internet trolls stalking the web and the legions of online fans seeking to stir up some drama. They both know that the most hurtful weaponry to wield against black women include images of apes, threats of lynching and a    . Fifth Harmony is a Simon   girl group that snagged its first Top 10 hit this year with the saucy single â€œWork From Home. â€ Its brand would best be described as â€œgyrating girl power. â€ But when Ms. Kordei sat down with the digital lifestyle magazine Galore for the Facebook Live interview on the subject of female friendship, one question  â€”   â€œDescribe each girl in one wordâ€  â€”   ripped a fault line through the groupâ€™s young, female fan base. Of her bandmate Ally Brooke, Ms. Kordei said: â€œSunshine, because she is literally the light of the group. â€ Of Lauren Jauregui: â€œMy therapist, I can go to her about absolutely anything, and I feel like I can trust that she wonâ€™t judge anything that I say. â€ And Dinah Jane: â€œSheâ€™s like the   queen, she just has a good time anywhere she is. â€ When she reached Fifth Harmonyâ€™s final member, Camila Cabello, she paused. â€œShe is   â€¦     letâ€™s see. Camila. Very quirky. Yeah, very quirky. Um, cute. Quirky. â€ Thatâ€™s it. But that was enough to enrage some fans of Ms. Cabello, the    who has been positioned as Fifth Harmonyâ€™s breakout star (and earned a spot in Taylor Swiftâ€™s squad). To this set, Ms. Kordeiâ€™s answer was apparently insufficiently effusive. â€œCamila is a lot more than cute and quirky sheâ€™s kind, classy, mature and hardworking,â€ one fan tweeted. The backlash soon grew big enough to hit the teen gossip sites (â€œOMG: Did Normani Kordei Throw Shade at Camila Cabello?â€ the magazine   asked) before curdling into something more sinister. In fan enclaves across the web, a subset of Fifth Harmony followers called Ms. Kordei â€œNormonkey,â€ â€œcoon,â€ and â€œnigger. â€ One said she â€œdeserves to be lynched. â€ Another Photoshopped her face onto the body of a woman hanging from a tree. This is the kind of rhetoric you expect to see on 4chanâ€™s political message board, a den of white supremacist rhetoric fused with ironic memes. The trolls of 4chan have lately helped power the online presence of the   the folks who led the Twitter assault against Ms. Jones. Now the internetâ€™s most unruly celebrity fans are cribbing their troublemaking tactics from the same playbook. The firestorm against Ms. Jones was touched off by a nasty review of â€œGhostbustersâ€ published by Milo Yiannopoulos, a conservative provocateur. As the attacks built, comment threads unspooled inside 4chan, surfacing racist images and commentary to hurl at Ms. Jones in Twitterâ€™s open marketplace. Abuse against Ms. Kordei was organized, too, by an anonymous Twitter account that popped up directing fans to inundate her with slurs. Trolls thrive off provoking a response from their targets. When Ms. Jones began speaking out against the abuse on Twitter, 4chan posters traded gleeful messages. Fans, too, delight in forging some connection with the stars, even if it comes in the form of a rebuke. The abuse against Ms. Kordei escalated after she took to Twitter to deny a feud with Ms. Cabello and to denounce the fans attempting to stir up trouble. That behavior eventually scored a response from Ms. Cabello, too. â€œYou donâ€™t have to hate on somebody else to support me  â€”   I donâ€™t appreciate it and itâ€™s not what Iâ€™m about,â€ she tweeted. â€œBe kind or move on. â€ Most Fifth Harmony fans, who call themselves Harmonizers, are not racists. As the abuse mounted, support for Ms. Kordei poured out under the hashtags #IStandWithNormani and #WeLoveYouNormani. Still, racially tinged remarks about Ms. Kordei have been a   presence amid her rise in popularity  â€”   fans have expressed surprise that she reads books and called her â€œuglyâ€ and â€œapeâ€ â€”   and the abuse tends to flare at dramatic moments within the roiling fan narrative of imagined alliances and feuds (like the supposed ongoing beef between Ms. Kordei and Ms. Cabello). A similar dynamic has played out among One Direction fans, some of whom have greeted Zayn Malik, the groupâ€™s lone Muslim member, with death threats and slurs like â€œterrorist. â€ He briefly quit Twitter in 2012, citing Islamophobia, and left the band last year. And when Robert Pattinson started dating the singer FKA Twigs in 2014, a subgroup of his fans inundated her with racist abuse on Twitter that left her â€œgenuinely shocked and disgusted. â€ Some level of infighting is embedded within pop fandom itself. Like One Direction before it, Fifth Harmony is a   pop group thatâ€™s been perfectly primed to exploit differences in personality, style and ethnic background of the groupâ€™s singers. The Spice Girls played this trick most baldly, naming and dressing members after a singular trait  â€”   Baby, Scary, Sporty, Posh and Ginger. But supporting a favorite bandmate can easily degrade into trashing a least favorite. In a New York Post article from 1998, one    Spice Girls fan said of Ginger (Geri Halliwell): â€œA lot of people donâ€™t like her. I think some people hate her the most out of all of them. â€ She added: â€œI personally donâ€™t like Scary Spice, though. â€ Typically, girl group loyalism falls into the benign end of human  . But in the crucible of online fandom, demographic distinctions can coarsen into warring factions. A fan fantasy that frames the band members as hating one another  â€”   and paints one of them as rude, stupid, evil, and deserving of death because she is black  â€”   is no longer just idle fan fictions. As Ms. Kordei put it in one of her notes to fans, â€œFor those of you who enjoy speculating creating drama that doesnâ€™t exist, please keep in mind that myself and the other girls in the group are PEOPLE. â€ She added: â€œThis is our story so let us write it our way, instead of you trying to write it for us. â€\"\n",
    "prediction_result = predict_news(input_text, new_model)\n",
    "print(f\"Prediction: {prediction_result}\")"
   ]
  },
  {
   "cell_type": "code",
   "execution_count": null,
   "id": "55634b75-c338-4787-9d7a-b32d7daeef20",
   "metadata": {},
   "outputs": [],
   "source": [
    "input_text=\"\"\n",
    "prediction_result = predict_news(input_text, new_model)\n",
    "print(f\"Prediction: {prediction_result}\")"
   ]
  },
  {
   "cell_type": "code",
   "execution_count": null,
   "id": "7b3ff859-0666-4475-b75f-7a75818995d5",
   "metadata": {},
   "outputs": [],
   "source": []
  }
 ],
 "metadata": {
  "kernelspec": {
   "display_name": "Python 3 (ipykernel)",
   "language": "python",
   "name": "python3"
  },
  "language_info": {
   "codemirror_mode": {
    "name": "ipython",
    "version": 3
   },
   "file_extension": ".py",
   "mimetype": "text/x-python",
   "name": "python",
   "nbconvert_exporter": "python",
   "pygments_lexer": "ipython3",
   "version": "3.11.0"
  }
 },
 "nbformat": 4,
 "nbformat_minor": 5
}
